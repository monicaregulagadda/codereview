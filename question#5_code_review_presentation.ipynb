{
 "cells": [
  {
   "cell_type": "code",
   "execution_count": 1,
   "id": "76c2295f-8bac-4f82-abc5-335f711e006e",
   "metadata": {},
   "outputs": [],
   "source": [
    "#code Review presentation\n",
    " #oct 14\n",
    " #simple data types\n",
    " #question 5"
   ]
  },
  {
   "cell_type": "code",
   "execution_count": null,
   "id": "a307ce7a-dccf-4c03-8ef6-38d293d0bda7",
   "metadata": {},
   "outputs": [],
   "source": [
    "#Monica Regulagadda"
   ]
  },
  {
   "cell_type": "code",
   "execution_count": null,
   "id": "e24aba46-b7e5-441b-94e3-6806f13574c1",
   "metadata": {},
   "outputs": [],
   "source": [
    "#string = \"E. Coli\"\n",
    "\n",
    "#string[2]=?"
   ]
  },
  {
   "cell_type": "code",
   "execution_count": 17,
   "id": "e4a7bfdc-69f6-4c96-9c21-4da44ad9096a",
   "metadata": {},
   "outputs": [],
   "source": [
    "# This question is all about indexing, it allows us to access specific/individual elememts of a sequence, such as strings and lists."
   ]
  },
  {
   "cell_type": "code",
   "execution_count": null,
   "id": "c0beacbd-18b9-4a1a-9d7e-6c2559d886b2",
   "metadata": {},
   "outputs": [],
   "source": [
    "string = \"E. Coli\""
   ]
  },
  {
   "cell_type": "code",
   "execution_count": null,
   "id": "bb316b76-a3e6-47c0-9395-49fba0a92c74",
   "metadata": {},
   "outputs": [],
   "source": [
    "# Define a string to the variable string with the value \"E.Coli\""
   ]
  },
  {
   "cell_type": "code",
   "execution_count": 2,
   "id": "c5848bbe-b631-463b-9662-a6e1711e6a90",
   "metadata": {},
   "outputs": [],
   "source": [
    "#this string contains 7 chracters, including letters, special character and a space, \n",
    "#each character in the string has a specific position, starting from 0(left to right)"
   ]
  },
  {
   "cell_type": "code",
   "execution_count": 3,
   "id": "8fe3566d-7df9-4a5e-b723-6b0df7d39526",
   "metadata": {},
   "outputs": [],
   "source": [
    "#It uses zero-based indexing, meaning the first element is at index 0, the second at index 1 and so on"
   ]
  },
  {
   "cell_type": "code",
   "execution_count": 4,
   "id": "79cfab3f-39be-44a6-828d-5b03c6177273",
   "metadata": {},
   "outputs": [],
   "source": [
    "# here is a breakdown of the string\n",
    "\n",
    "# String:   E . <space> C o l i\n",
    "# Index:    0 1  2      3 4 5 6"
   ]
  },
  {
   "cell_type": "code",
   "execution_count": 8,
   "id": "2356002c-720b-4b29-80db-310ca92c4bbc",
   "metadata": {},
   "outputs": [],
   "source": [
    "#string[2]"
   ]
  },
  {
   "cell_type": "code",
   "execution_count": 16,
   "id": "2975ddac-203d-48c3-b96c-053a26a303c8",
   "metadata": {},
   "outputs": [],
   "source": [
    "# Now we have to print the the value of string[2], so we have to access the third character in the string, \n",
    "#since the count starts from 0(left to right) "
   ]
  },
  {
   "cell_type": "code",
   "execution_count": 15,
   "id": "b50ae12e-70ca-441f-93de-9e1c553dda47",
   "metadata": {},
   "outputs": [
    {
     "data": {
      "text/plain": [
       "' '"
      ]
     },
     "execution_count": 15,
     "metadata": {},
     "output_type": "execute_result"
    }
   ],
   "source": [
    "#print the varibale string[2]\n",
    "string[2]"
   ]
  },
  {
   "cell_type": "code",
   "execution_count": 6,
   "id": "31aa7452-1510-4bed-bbb6-5f735891fc99",
   "metadata": {},
   "outputs": [],
   "source": [
    "#if we can see the string, the character at index 2 is the space(\" \"), as shown in the above index breakdown"
   ]
  },
  {
   "cell_type": "code",
   "execution_count": 7,
   "id": "58fc179a-66df-46e7-a803-03f5d8b202f0",
   "metadata": {},
   "outputs": [],
   "source": [
    "# so, string[2] refers to the space in the string \"E. Coli\""
   ]
  },
  {
   "cell_type": "code",
   "execution_count": 14,
   "id": "d9bdd757-c3f8-4df7-848b-5b164ccfb4cb",
   "metadata": {},
   "outputs": [
    {
     "data": {
      "text/plain": [
       "' '"
      ]
     },
     "execution_count": 14,
     "metadata": {},
     "output_type": "execute_result"
    }
   ],
   "source": [
    "#define a variable string\n",
    "string = \"E. Coli\"\n",
    "\n",
    "#print the varibale string[2]\n",
    "string[2]"
   ]
  },
  {
   "cell_type": "code",
   "execution_count": null,
   "id": "72e9a6f0-4fe9-4df4-b890-10733f76c986",
   "metadata": {},
   "outputs": [],
   "source": []
  },
  {
   "cell_type": "code",
   "execution_count": null,
   "id": "22673630-f265-432b-8641-dcb426bcbfb5",
   "metadata": {},
   "outputs": [],
   "source": []
  },
  {
   "cell_type": "code",
   "execution_count": null,
   "id": "db64207e-6140-4f26-b114-e96b59bf1cdd",
   "metadata": {},
   "outputs": [],
   "source": []
  }
 ],
 "metadata": {
  "kernelspec": {
   "display_name": "Python 3 (ipykernel)",
   "language": "python",
   "name": "python3"
  },
  "language_info": {
   "codemirror_mode": {
    "name": "ipython",
    "version": 3
   },
   "file_extension": ".py",
   "mimetype": "text/x-python",
   "name": "python",
   "nbconvert_exporter": "python",
   "pygments_lexer": "ipython3",
   "version": "3.12.5"
  }
 },
 "nbformat": 4,
 "nbformat_minor": 5
}
